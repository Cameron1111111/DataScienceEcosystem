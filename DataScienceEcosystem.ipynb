{
 "cells": [
  {
   "cell_type": "markdown",
   "id": "2096fc31-09fa-431b-9554-ab294b6dad41",
   "metadata": {},
   "source": [
    "# Data Science Tools and Ecosystem"
   ]
  },
  {
   "cell_type": "markdown",
   "id": "41c25ac5-1371-477d-850f-259e7cbed599",
   "metadata": {},
   "source": [
    "In this notebook, Data Science Tools and Ecosystem are summarized."
   ]
  },
  {
   "cell_type": "markdown",
   "id": "7b219f2a-6121-4570-8ab6-6ebbcda99ebf",
   "metadata": {},
   "source": [
    "Objectives: \n",
    "- List languages for data science\n",
    "- List libraries for data science\n",
    "- Arithmetic in Jupyter"
   ]
  },
  {
   "cell_type": "markdown",
   "id": "380cf4ef-81ae-4c1e-bab0-a655f35530c5",
   "metadata": {},
   "source": [
    "Some of the popular languages that Data Scientists use are:\n",
    "1. Python\n",
    "2. R\n",
    "3. SQL\n",
    "4. Julia\n",
    "5. Scala\n",
    "6. Java"
   ]
  },
  {
   "cell_type": "markdown",
   "id": "ae1f3495-f1ff-4cc3-ac68-c51ed2fd1543",
   "metadata": {},
   "source": [
    "Some of the commonly used libraries used by Data Scientists include:\n",
    "1. NumPy – for numerical operations\n",
    "2. Pandas – for data manipulation and analysis\n",
    "3. Matplotlib – for data visualization\n",
    "4. Seaborn – for statistical data visualization\n",
    "5. Scikit-learn – for machine learning\n",
    "6. TensorFlow – for deep learning\n",
    "7. Keras – high-level neural networks API\n",
    "8. PyTorch – for deep learning\n",
    "9. Statsmodels – for statistical modeling\n",
    "10. XGBoost – for gradient boosting"
   ]
  },
  {
   "cell_type": "markdown",
   "id": "cc236d07-35a3-4125-ac8e-134129ce9f73",
   "metadata": {},
   "source": [
    "| Data Science Tools       |\n",
    "|--------------------------|\n",
    "| Jupyter Notebook         |\n",
    "| RStudio                  |\n",
    "| Visual Studio Code       |"
   ]
  },
  {
   "cell_type": "markdown",
   "id": "bad2bad1-1a46-4f3e-8722-954ff8813352",
   "metadata": {},
   "source": [
    "### Below are a few examples of evaluating arithmetic expressions in Python"
   ]
  },
  {
   "cell_type": "code",
   "execution_count": 1,
   "id": "f4cbe85e-eda6-44af-8ab9-cc59ee7ee40f",
   "metadata": {},
   "outputs": [
    {
     "data": {
      "text/plain": [
       "27"
      ]
     },
     "execution_count": 1,
     "metadata": {},
     "output_type": "execute_result"
    }
   ],
   "source": [
    "#This a simple arithmetic expression to multiply then add integers\n",
    "3*(4+5)"
   ]
  },
  {
   "cell_type": "code",
   "execution_count": 2,
   "id": "20d092d8-860d-44ff-8d1f-53f1f8a0b36c",
   "metadata": {},
   "outputs": [
    {
     "data": {
      "text/plain": [
       "3.3333333333333335"
      ]
     },
     "execution_count": 2,
     "metadata": {},
     "output_type": "execute_result"
    }
   ],
   "source": [
    "#This will convert 200 minutes to hours by diving by 60\n",
    "200/60"
   ]
  },
  {
   "cell_type": "markdown",
   "id": "87bf7626-996a-41a8-8bd7-e6973d701737",
   "metadata": {},
   "source": [
    "## Author\n",
    "Cameron Morris"
   ]
  },
  {
   "cell_type": "code",
   "execution_count": null,
   "id": "7f660c2e-d154-47f4-aa91-9b5233ab3d5a",
   "metadata": {},
   "outputs": [],
   "source": []
  }
 ],
 "metadata": {
  "kernelspec": {
   "display_name": "Python 3 (ipykernel)",
   "language": "python",
   "name": "python3"
  },
  "language_info": {
   "codemirror_mode": {
    "name": "ipython",
    "version": 3
   },
   "file_extension": ".py",
   "mimetype": "text/x-python",
   "name": "python",
   "nbconvert_exporter": "python",
   "pygments_lexer": "ipython3",
   "version": "3.12.8"
  }
 },
 "nbformat": 4,
 "nbformat_minor": 5
}
